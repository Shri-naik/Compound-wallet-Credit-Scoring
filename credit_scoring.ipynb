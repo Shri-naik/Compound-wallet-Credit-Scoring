{
  "nbformat": 4,
  "nbformat_minor": 0,
  "metadata": {
    "colab": {
      "provenance": []
    },
    "kernelspec": {
      "name": "python3",
      "display_name": "Python 3"
    },
    "language_info": {
      "name": "python"
    }
  },
  "cells": [
    {
      "cell_type": "code",
      "source": [
        "import os\n",
        "folder_path = \"data/compound_v2\"\n",
        "os.makedirs(folder_path, exist_ok=True)\n",
        "\n",
        "print(\"Folder created at:\", folder_path)\n"
      ],
      "metadata": {
        "colab": {
          "base_uri": "https://localhost:8080/"
        },
        "id": "AZMxq_Hm0_Nz",
        "outputId": "7b0a1bfe-4706-4b81-9f17-fcdeb11ad24a"
      },
      "execution_count": 2,
      "outputs": [
        {
          "output_type": "stream",
          "name": "stdout",
          "text": [
            "Folder created at: data/compound_v2\n"
          ]
        }
      ]
    },
    {
      "cell_type": "code",
      "source": [
        "# 1. Imports\n",
        "import pandas as pd\n",
        "import numpy as np\n",
        "import os\n",
        "from sklearn.preprocessing import MinMaxScaler\n",
        "import matplotlib.pyplot as plt\n",
        "import json\n",
        "\n",
        "# 2. Create sample JSON data (mock Compound transaction data)\n",
        "sample_data = [\n",
        "    {\"wallet_address\": \"0xabc\", \"timestamp\": \"2024-06-01T12:00:00Z\", \"action\": \"borrow\", \"amount\": 100},\n",
        "    {\"wallet_address\": \"0xabc\", \"timestamp\": \"2024-06-02T13:00:00Z\", \"action\": \"repay\", \"amount\": 90},\n",
        "    {\"wallet_address\": \"0xabc\", \"timestamp\": \"2024-06-03T14:00:00Z\", \"action\": \"repay\", \"amount\": 10},\n",
        "    {\"wallet_address\": \"0xabc\", \"timestamp\": \"2024-06-04T15:00:00Z\", \"action\": \"supply\", \"amount\": 200},\n",
        "    {\"wallet_address\": \"0xdef\", \"timestamp\": \"2024-06-01T10:00:00Z\", \"action\": \"borrow\", \"amount\": 300},\n",
        "    {\"wallet_address\": \"0xdef\", \"timestamp\": \"2024-06-01T11:00:00Z\", \"action\": \"liquidation\", \"amount\": 250},\n",
        "    {\"wallet_address\": \"0xdef\", \"timestamp\": \"2024-06-01T12:00:00Z\", \"action\": \"repay\", \"amount\": 50},\n",
        "    {\"wallet_address\": \"0x123\", \"timestamp\": \"2024-06-10T08:00:00Z\", \"action\": \"supply\", \"amount\": 500},\n",
        "    {\"wallet_address\": \"0x123\", \"timestamp\": \"2024-06-15T09:00:00Z\", \"action\": \"supply\", \"amount\": 600},\n",
        "    {\"wallet_address\": \"0x123\", \"timestamp\": \"2024-06-20T10:00:00Z\", \"action\": \"borrow\", \"amount\": 100}\n",
        "]\n",
        "\n",
        "# Save to file\n",
        "sample_file = 'sample_data.json'\n",
        "with open(sample_file, 'w') as f:\n",
        "    json.dump(sample_data, f)\n",
        "\n",
        "# 3. Load Sample Data\n",
        "raw_data = pd.read_json(sample_file)\n",
        "raw_data['timestamp'] = pd.to_datetime(raw_data['timestamp'])\n",
        "\n",
        "# 4. Feature Engineering\n",
        "def extract_wallet_features(df):\n",
        "    grouped = df.groupby(\"wallet_address\")\n",
        "    features = []\n",
        "\n",
        "    for address, group in grouped:\n",
        "        f = {}\n",
        "        f[\"wallet_address\"] = address\n",
        "        f[\"tx_count\"] = len(group)\n",
        "        f[\"active_days\"] = group[\"timestamp\"].dt.date.nunique()\n",
        "\n",
        "        borrows = group[group[\"action\"] == \"borrow\"]\n",
        "        repays = group[group[\"action\"] == \"repay\"]\n",
        "        supplies = group[group[\"action\"] == \"supply\"]\n",
        "        liquidations = group[group[\"action\"] == \"liquidation\"]\n",
        "\n",
        "        f[\"total_borrowed\"] = borrows[\"amount\"].sum()\n",
        "        f[\"total_repaid\"] = repays[\"amount\"].sum()\n",
        "        f[\"repay_to_borrow_ratio\"] = f[\"total_repaid\"] / f[\"total_borrowed\"] if f[\"total_borrowed\"] > 0 else 0\n",
        "        f[\"liquidation_count\"] = len(liquidations)\n",
        "        f[\"supply_count\"] = len(supplies)\n",
        "\n",
        "        timestamps = pd.to_datetime(group[\"timestamp\"]).sort_values()\n",
        "        time_diffs = timestamps.diff().dropna().dt.total_seconds()\n",
        "        f[\"avg_time_between_tx\"] = time_diffs.mean() if not time_diffs.empty else 0\n",
        "\n",
        "        features.append(f)\n",
        "\n",
        "    return pd.DataFrame(features)\n",
        "\n",
        "wallet_df = extract_wallet_features(raw_data)\n",
        "\n",
        "# 5. Normalize & Score\n",
        "features = [\"tx_count\", \"active_days\", \"repay_to_borrow_ratio\", \"supply_count\", \"avg_time_between_tx\"]\n",
        "scaler = MinMaxScaler()\n",
        "wallet_df[features] = scaler.fit_transform(wallet_df[features])\n",
        "\n",
        "weights = {\n",
        "    \"tx_count\": 0.2,\n",
        "    \"active_days\": 0.2,\n",
        "    \"repay_to_borrow_ratio\": 0.3,\n",
        "    \"supply_count\": 0.2,\n",
        "    \"avg_time_between_tx\": 0.1\n",
        "}\n",
        "\n",
        "wallet_df[\"score\"] = sum(wallet_df[feature] * weight for feature, weight in weights.items())\n",
        "wallet_df[\"score\"] = (wallet_df[\"score\"] * 100).clip(0, 100).round(2)\n",
        "\n",
        "# 6. Export\n",
        "wallet_df.sort_values(by=\"score\", ascending=False).to_csv(\"wallet_scores_sample.csv\", index=False)\n",
        "\n",
        "# 7. Optional: Score Distribution\n",
        "plt.hist(wallet_df[\"score\"], bins=10, color='skyblue')\n",
        "plt.title(\"Wallet Score Distribution (Sample)\")\n",
        "plt.xlabel(\"Score\")\n",
        "plt.ylabel(\"Wallet Count\")\n",
        "plt.grid(True)\n",
        "plt.show()\n"
      ],
      "metadata": {
        "colab": {
          "base_uri": "https://localhost:8080/",
          "height": 472
        },
        "id": "GXCkf0nU5B0Z",
        "outputId": "f03410ec-cf0d-4c4d-a09f-59ce6dc8c441"
      },
      "execution_count": 11,
      "outputs": [
        {
          "output_type": "display_data",
          "data": {
            "text/plain": [
              "<Figure size 640x480 with 1 Axes>"
            ],
            "image/png": "[encoded data removed]"
          },
          "metadata": {}
        }
      ]
    },
    {
      "cell_type": "code",
      "source": [
        "\n",
        "# 1. Imports\n",
        "import pandas as pd\n",
        "import numpy as np\n",
        "import os\n",
        "import json\n",
        "from sklearn.preprocessing import MinMaxScaler\n",
        "import matplotlib.pyplot as plt\n",
        "\n",
        "# 2. Load Compound JSON files (you must upload them to 'data/compound_v2/' folder)\n",
        "data_dir = 'data/compound_v2'\n",
        "files = sorted(\n",
        "    [f for f in os.listdir(data_dir) if f.endswith('.json')],\n",
        "    key=lambda x: os.path.getsize(os.path.join(data_dir, x)),\n",
        "    reverse=True\n",
        ")[:3]  # Top 3 largest files\n",
        "\n",
        "dfs = []\n",
        "for file in files:\n",
        "    path = os.path.join(data_dir, file)\n",
        "    print(f\" Processing {file}...\")\n",
        "    try:\n",
        "        with open(path, 'r') as f:\n",
        "            data = json.load(f)\n",
        "            # If the file contains 'deposits' array, flatten it\n",
        "            if \"deposits\" in data:\n",
        "                deposit_data = data[\"deposits\"]\n",
        "                rows = []\n",
        "                for item in deposit_data:\n",
        "                    rows.append({\n",
        "                        \"wallet_address\": item.get(\"account\", {}).get(\"id\"),\n",
        "                        \"timestamp\": pd.to_datetime(int(item.get(\"timestamp\", 0)), unit='s', errors='coerce'),\n",
        "                        \"amount\": float(item.get(\"amount\", 0)) / 1e18,  # ETH formatted\n",
        "                        \"amount_usd\": float(item.get(\"amountUSD\", 0)),\n",
        "                        \"action\": \"supply\"\n",
        "                    })\n",
        "                df = pd.DataFrame(rows)\n",
        "                dfs.append(df)\n",
        "    except Exception as e:\n",
        "        print(f\" Failed to load {file}:\", e)\n",
        "\n",
        "if not dfs:\n",
        "    raise ValueError(\"No valid JSON files were loaded. Check your file format or path.\")\n",
        "\n",
        "# 3. Combine and preprocess\n",
        "raw_data = pd.concat(dfs, ignore_index=True)\n",
        "raw_data = raw_data.dropna(subset=['timestamp', 'wallet_address', 'amount'])\n",
        "\n",
        "# 4. Feature Engineering\n",
        "def extract_wallet_features(df):\n",
        "    grouped = df.groupby(\"wallet_address\")\n",
        "    features = []\n",
        "\n",
        "    for address, group in grouped:\n",
        "        f = {}\n",
        "        f[\"wallet_address\"] = address\n",
        "        f[\"tx_count\"] = len(group)\n",
        "        f[\"active_days\"] = group[\"timestamp\"].dt.date.nunique()\n",
        "\n",
        "        borrows = group[group[\"action\"] == \"borrow\"]\n",
        "        repays = group[group[\"action\"] == \"repay\"]\n",
        "        supplies = group[group[\"action\"] == \"supply\"]\n",
        "        liquidations = group[group[\"action\"] == \"liquidation\"]\n",
        "\n",
        "        f[\"total_borrowed\"] = borrows[\"amount\"].sum() if not borrows.empty else 0\n",
        "        f[\"total_repaid\"] = repays[\"amount\"].sum() if not repays.empty else 0\n",
        "        f[\"repay_to_borrow_ratio\"] = f[\"total_repaid\"] / f[\"total_borrowed\"] if f[\"total_borrowed\"] > 0 else 0\n",
        "        f[\"liquidation_count\"] = len(liquidations)\n",
        "        f[\"supply_count\"] = len(supplies)\n",
        "\n",
        "        timestamps = pd.to_datetime(group[\"timestamp\"]).sort_values()\n",
        "        time_diffs = timestamps.diff().dropna().dt.total_seconds()\n",
        "        f[\"avg_time_between_tx\"] = time_diffs.mean() if not time_diffs.empty else 0\n",
        "\n",
        "        features.append(f)\n",
        "\n",
        "    return pd.DataFrame(features)\n",
        "\n",
        "wallet_df = extract_wallet_features(raw_data)\n",
        "\n",
        "# 5. Normalize & Score\n",
        "features = [\"tx_count\", \"active_days\", \"repay_to_borrow_ratio\", \"supply_count\", \"avg_time_between_tx\"]\n",
        "scaler = MinMaxScaler()\n",
        "wallet_df[features] = scaler.fit_transform(wallet_df[features])\n",
        "\n",
        "weights = {\n",
        "    \"tx_count\": 0.2,\n",
        "    \"active_days\": 0.2,\n",
        "    \"repay_to_borrow_ratio\": 0.3,\n",
        "    \"supply_count\": 0.2,\n",
        "    \"avg_time_between_tx\": 0.1\n",
        "}\n",
        "\n",
        "wallet_df[\"score\"] = sum(wallet_df[feature] * weight for feature, weight in weights.items())\n",
        "wallet_df[\"score\"] = (wallet_df[\"score\"] * 100).clip(0, 100).round(2)\n",
        "\n",
        "# 6. Export\n",
        "wallet_df.sort_values(by=\"score\", ascending=False).to_csv(\"wallet_scores.csv\", index=False)\n",
        "\n",
        "# 7. Optional: Score Distribution\n",
        "plt.hist(wallet_df[\"score\"], bins=30, color='skyblue')\n",
        "plt.title(\"Wallet Score Distribution\")\n",
        "plt.xlabel(\"Score\")\n",
        "plt.ylabel(\"Wallet Count\")\n",
        "plt.grid(True)\n",
        "plt.show()\n"
      ],
      "metadata": {
        "colab": {
          "base_uri": "https://localhost:8080/",
          "height": 524
        },
        "id": "-a-i84_b5Yt2",
        "outputId": "6075a04b-125a-4304-b0e3-54436ba30a59"
      },
      "execution_count": 21,
      "outputs": [
        {
          "output_type": "stream",
          "name": "stdout",
          "text": [
            " Processing compoundV2_transactions_ethereum_chunk_17.json...\n",
            " Processing compoundV2_transactions_ethereum_chunk_18.json...\n",
            " Processing compoundV2_transactions_ethereum_chunk_19.json...\n"
          ]
        },
        {
          "output_type": "display_data",
          "data": {
            "text/plain": [
              "<Figure size 640x480 with 1 Axes>"
            ],
            "image/png": "[encoded data removed]"
          },
          "metadata": {}
        }
      ]
    },
    {
      "cell_type": "code",
      "source": [
        "top_wallets = wallet_df.sort_values(by=\"score\", ascending=False).head(1000)\n",
        "top_wallets.to_csv(\"top_1000_wallet_scores.csv\", index=False)\n"
      ],
      "metadata": {
        "id": "VtbWNGA_6jQ4"
      },
      "execution_count": 15,
      "outputs": []
    },
    {
      "cell_type": "code",
      "source": [
        "# High scorers\n",
        "high = top_wallets.head(5)\n",
        "print(\"Top Wallets:\\n\", high)\n",
        "print(\"------------------------------------------------------------------------------\")\n",
        "# Low scorers\n",
        "low = wallet_df.sort_values(by=\"score\").head(5)\n",
        "print(\"\\nBottom Wallets:\\n\", low)\n"
      ],
      "metadata": {
        "colab": {
          "base_uri": "https://localhost:8080/"
        },
        "id": "r9ZqB1046nqE",
        "outputId": "a843a02a-8374-46c3-aed0-3727aaee83e0"
      },
      "execution_count": 22,
      "outputs": [
        {
          "output_type": "stream",
          "name": "stdout",
          "text": [
            "Top Wallets:\n",
            "                                   wallet_address  tx_count  active_days  \\\n",
            "1568  0x29fe7d60ddf151e5b52e5fab4f1325da6b2bd958  1.000000     1.000000   \n",
            "18    0x0034ea9808e620a0ef79261c51af20614b742b24  0.285132     1.000000   \n",
            "1     0x00000000001876eb1444c986fd502e618c587430  0.300916     0.948718   \n",
            "5185  0x8f2d580c3cccd96c3541386daac0af71c5d1c0f9  0.320774     0.846154   \n",
            "5902  0xa2b47e3d5c44877cca798226b7b8118f9bfb7a56  0.203157     0.743590   \n",
            "\n",
            "      total_borrowed  total_repaid  repay_to_borrow_ratio  liquidation_count  \\\n",
            "1568               0             0                    0.0                  0   \n",
            "18                 0             0                    0.0                  0   \n",
            "1                  0             0                    0.0                  0   \n",
            "5185               0             0                    0.0                  0   \n",
            "5902               0             0                    0.0                  0   \n",
            "\n",
            "      supply_count  avg_time_between_tx  score  \n",
            "1568      1.000000             0.000528  60.01  \n",
            "18        0.285132             0.001843  31.42  \n",
            "1         0.300916             0.001750  31.03  \n",
            "5185      0.320774             0.001644  29.77  \n",
            "5902      0.203157             0.002589  23.02  \n",
            "------------------------------------------------------------------------------\n",
            "\n",
            "Bottom Wallets:\n",
            "                                   wallet_address  tx_count  active_days  \\\n",
            "5119  0x8d2150a54a2a25e0b966e15f9c6efc6397499044       0.0          0.0   \n",
            "5140  0x8dd90c29300f4e967c441a0753f19bf43fc39f34       0.0          0.0   \n",
            "5139  0x8dd499ec0c328dfe2e035129197e964612310466       0.0          0.0   \n",
            "5138  0x8dd466326a8761e28077cda4ebc85e9f89e60d8f       0.0          0.0   \n",
            "5137  0x8dd391437c6ca1f9300f57431b75e975e6b56de5       0.0          0.0   \n",
            "\n",
            "      total_borrowed  total_repaid  repay_to_borrow_ratio  liquidation_count  \\\n",
            "5119               0             0                    0.0                  0   \n",
            "5140               0             0                    0.0                  0   \n",
            "5139               0             0                    0.0                  0   \n",
            "5138               0             0                    0.0                  0   \n",
            "5137               0             0                    0.0                  0   \n",
            "\n",
            "      supply_count  avg_time_between_tx  score  \n",
            "5119           0.0                  0.0    0.0  \n",
            "5140           0.0                  0.0    0.0  \n",
            "5139           0.0                  0.0    0.0  \n",
            "5138           0.0                  0.0    0.0  \n",
            "5137           0.0                  0.0    0.0  \n"
          ]
        }
      ]
    },
    {
      "cell_type": "code",
      "source": [],
      "metadata": {
        "id": "yC6Sp__264Ce"
      },
      "execution_count": null,
      "outputs": []
    }
  ]
}